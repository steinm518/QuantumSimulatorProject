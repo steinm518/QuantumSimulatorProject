{
 "cells": [
  {
   "cell_type": "markdown",
   "metadata": {},
   "source": [
    "# Our Quantum Simulator\n",
    "## Group: Brandon, Chris, Jacob, Michael"
   ]
  },
  {
   "cell_type": "code",
   "execution_count": 32,
   "metadata": {},
   "outputs": [],
   "source": [
    "import gates\n",
    "import utilities\n",
    "import random\n"
   ]
  },
  {
   "cell_type": "code",
   "execution_count": 33,
   "metadata": {},
   "outputs": [],
   "source": [
    "class QuantumProgram():\n",
    "    def __init__(self,the_number_of_qubits):\n",
    "        self.qubits = gates.zeroQubit()\n",
    "        self.qubit_number = the_number_of_qubits\n",
    "        self.operations = []\n",
    "        self.classical = []\n",
    "        for i in range(1, the_number_of_qubits):\n",
    "            self.qubits = utilities.tensor(self.qubits,gates.zeroQubit())\n",
    "    def getQubits(self):\n",
    "        return self.qubits\n",
    "    def addQubits(self, the_number_of_qubits):\n",
    "        self.qubit_number += the_number_of_qubits\n",
    "        for i in range(0, the_number_of_qubits):\n",
    "            self.qubits = utilities.tensor(self.qubits,gates.zeroQubit())\n",
    "    def getOperations(self):\n",
    "        return self.operations\n",
    "    def getNumberOfOperations(self):\n",
    "        return len(self.operations)\n",
    "    def measureOutcome(self,binNum):\n",
    "        #000 ->0\n",
    "        #001 ->1\n",
    "        #010 ->2\n",
    "        #011 ->3\n",
    "        zeroRange = self.observing_probabilities()[binNum]\n",
    "        random.seed()\n",
    "        measurement = random.random()\n",
    "        if measurement >= zeroRange:\n",
    "            measurement = 0\n",
    "        else:\n",
    "            measurement = 1\n",
    "            \n",
    "        return measurement\n",
    "    def measureMultiple(self):#Pick a random category and measure it\n",
    "        probabilities = self.observing_probabilities()\n",
    "        while True:\n",
    "            binNum = random.randint(0,len(probabilities)-1)\n",
    "            if(self.measureOutcome(binNum)==1):\n",
    "                return binNum\n",
    "\n",
    "    def gateMaker(self,position_of_qubit,gateFunction):\n",
    "        (self.qubits,returnedGate)=gates.apply_gate(gateFunction,self.qubits,position_of_qubit)\n",
    "        self.operations.append(returnedGate)\n",
    "        \n",
    "    def H(self, *args): #Shorthand common gate calls for easier end-user coding\n",
    "        if len(args) > 0:\n",
    "            self.gateMaker(args[0],gates.H())\n",
    "        else:\n",
    "            return gates.H()\n",
    "    def NOT(self, *args):\n",
    "        if len(args) > 0:\n",
    "            self.gateMaker(args[0],gates.NOT())\n",
    "        else:\n",
    "            return gates.NOT()\n",
    "    def X(self, *args):\n",
    "        if len(args) > 0:\n",
    "            self.gateMaker(args[0],gates.NOT())\n",
    "        else:\n",
    "            return gates.NOT()\n",
    "    def Z(self, *args):\n",
    "        if len(args) > 0:\n",
    "            self.gateMaker(args[0],gates.Z())\n",
    "        else:\n",
    "            return gates.Z()\n",
    "        \n",
    "    def Control(self,gateFunction,position_of_qubit,controls=[]):#Gate function being one of the above gates\n",
    "        mat2=[]\n",
    "        gateReturn = []\n",
    "        mat2,gateReturn=gates.apply_gate(gateFunction,self.qubits,position_of_qubit,controls)\n",
    "        self.qubits = mat2\n",
    "        self.operations.append(gateReturn)\n",
    "        return mat2\n",
    "    def ControlClassic(self,gateFunction,position_of_qubit,controls=[],theta=None):#Gate function being one of the above gates\n",
    "        mat2=[]\n",
    "        gateReturn = []\n",
    "        if 0 not in controls:\n",
    "            if theta != None:\n",
    "                mat2,gateReturn=gates.apply_gate(gateFunction, self.qubits,position_of_qubit)\n",
    "            else: \n",
    "                mat2,gateReturn=gates.apply_gate(gateFunction,self.qubits,position_of_qubit)\n",
    "        else:\n",
    "            mat2,gateReturn=gates.apply_gate(gates.I(),self.qubits,position_of_qubit)\n",
    "        self.qubits = mat2\n",
    "        self.operations.append(gateReturn)\n",
    "        return mat2\n",
    "\n",
    "    def read_unitary(self):\n",
    "        resultant = self.operations[0]\n",
    "        first = True\n",
    "        for operation in self.operations:\n",
    "            if first:\n",
    "                first = False\n",
    "                continue\n",
    "            else:\n",
    "                resultant = utilities.matmul(resultant,operation)\n",
    "        return resultant\n",
    "    def read_state(self):\n",
    "        return self.qubits\n",
    "    def observing_probabilities(self):\n",
    "        probabilities = []\n",
    "        for i in range(0, len(self.qubits[0])):\n",
    "            probabilities.append(self.qubits[0][i]*self.qubits[0][i])\n",
    "        return probabilities\n",
    "    def execute(self,the_number_of_shots):\n",
    "        executionDictionary = {}\n",
    "        self.observing_probabilities()\n",
    "        for string in utilities.getBinaryStrings(self.qubit_number):\n",
    "            executionDictionary.setdefault(string,0)\n",
    "        \n",
    "        for i in range(0,the_number_of_shots):\n",
    "            intNum =self.measureMultiple()\n",
    "            binNumSize= self.qubit_number\n",
    "            formatter= (\"0\"+str(binNumSize)+'b')\n",
    "            binNum = format(intNum,formatter)\n",
    "            executionDictionary[binNum] += 1  \n",
    "        return executionDictionary\n",
    "            \n",
    "        "
   ]
  },
  {
   "cell_type": "code",
   "execution_count": 34,
   "metadata": {},
   "outputs": [
    {
     "name": "stdout",
     "output_type": "stream",
     "text": [
      "{'000': 26, '001': 0, '010': 0, '011': 0, '100': 24, '101': 0, '110': 0, '111': 0}\n"
     ]
    }
   ],
   "source": [
    "#Simple Hadamard on the first qubit example\n",
    "qc = QuantumProgram(3)\n",
    "test = qc.getQubits()\n",
    "qc.gateMaker(0,qc.H())\n",
    "\n",
    "probabilities= qc.observing_probabilities()\n",
    "results = qc.execute(50)\n",
    "print(results)"
   ]
  },
  {
   "cell_type": "code",
   "execution_count": 35,
   "metadata": {},
   "outputs": [
    {
     "name": "stdout",
     "output_type": "stream",
     "text": [
      "[0.0, 0.0, 1.0000000000000004, 0.0]\n",
      "{'00': 0, '01': 0, '10': 50, '11': 0}\n"
     ]
    }
   ],
   "source": [
    "#Superdense encoding example\n",
    "encoder = QuantumProgram(2)\n",
    "\n",
    "#Entangle\n",
    "encoder.H(0)\n",
    "encoder.Control(encoder.X(),1,[0])\n",
    "\n",
    "#Encode with:\n",
    "bit1 = 1\n",
    "bit2 = 0\n",
    "encoder.ControlClassic(encoder.X(),0,[bit2])\n",
    "encoder.ControlClassic(encoder.Z(),0,[bit1])\n",
    "\n",
    "#Decode\n",
    "encoder.Control(encoder.X(),1,[0])\n",
    "encoder.H(0)\n",
    "\n",
    "print(encoder.observing_probabilities())\n",
    "print(encoder.execute(50))"
   ]
  }
 ],
 "metadata": {
  "kernelspec": {
   "display_name": "Python 3",
   "language": "python",
   "name": "python3"
  },
  "language_info": {
   "codemirror_mode": {
    "name": "ipython",
    "version": 3
   },
   "file_extension": ".py",
   "mimetype": "text/x-python",
   "name": "python",
   "nbconvert_exporter": "python",
   "pygments_lexer": "ipython3",
   "version": "3.9.5"
  }
 },
 "nbformat": 4,
 "nbformat_minor": 4
}
